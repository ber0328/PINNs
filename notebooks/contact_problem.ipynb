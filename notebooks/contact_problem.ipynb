{
 "cells": [
  {
   "cell_type": "markdown",
   "id": "52de6e09",
   "metadata": {},
   "source": [
    "## Zadání ##\n",
    "\n",
    "Řešíme kontaktní úlohu\n",
    "$$\\begin{gather*}\n",
    "    -\\Delta u = f(x, y) \\quad \\text{ na } \\Omega, \\\\\n",
    "    u = 0 \\quad \\text{ na } \\Gamma_{D}, \\\\\n",
    "    \\frac{du}{dn}(x, y) = h(x, y) \\quad \\text{ na } \\Gamma_{N}, \\\\\n",
    "    u - g \\geq 0 \\quad \\text{ na }  \\Gamma_{C} \\\\\n",
    "    \\frac{du}{dn} \\geq 0 \\quad \\text{ na }  \\Gamma_{C} \\\\\n",
    "    \\frac{du}{dn}(u - g) = 0 \\quad \\text{ na }  \\Gamma_{C},\n",
    "\\end{gather*}$$\n",
    "kde\n",
    "$$\\begin{gather*}\n",
    "    \\Omega = \\{ (x, y) \\in \\mathbb{R}^2 : |x| < 1 \\land |y| < 1 \\} \\\\\n",
    "    \\Gamma_{D} = \\{ (x, y) \\in \\Omega : y = 1 \\} \\\\\n",
    "    \\Gamma_{N} = \\{ (x, y) \\in \\Omega : |x| = 1 \\} \\\\\n",
    "    \\Gamma_{C} = \\{ (x, y) \\in \\Omega : y = -1 \\} \\\\ \n",
    "    f(x, y) = -1 \\\\\n",
    "    g(x, y) = \\sqrt{\\frac{1}{2} - x^2} - \\frac{\\sqrt{2}}{2} - \\frac{3}{5} \\\\\n",
    "    h(x, y) = 0\n",
    "\\end{gather*}$$"
   ]
  },
  {
   "cell_type": "code",
   "execution_count": 13,
   "id": "3032fbad",
   "metadata": {},
   "outputs": [
    {
     "name": "stdout",
     "output_type": "stream",
     "text": [
      "The autoreload extension is already loaded. To reload it, use:\n",
      "  %reload_ext autoreload\n"
     ]
    }
   ],
   "source": [
    "%load_ext autoreload\n",
    "%autoreload 2"
   ]
  },
  {
   "cell_type": "code",
   "execution_count": 14,
   "id": "c8aca5b5",
   "metadata": {},
   "outputs": [],
   "source": [
    "# imports\n",
    "import torch\n",
    "from torch.autograd import grad\n",
    "from torch.utils.data import DataLoader, TensorDataset\n",
    "from typing import List\n",
    "import sys\n",
    "sys.path.append('../')"
   ]
  },
  {
   "cell_type": "code",
   "execution_count": 15,
   "id": "a8ed53ef",
   "metadata": {},
   "outputs": [],
   "source": [
    "# vlastni import\n",
    "import src.data.cube_domain as cb\n",
    "from src.models.mlp_model import MLPModel\n",
    "from src import utils\n",
    "from src import train\n",
    "from src import calculus as calc"
   ]
  },
  {
   "cell_type": "code",
   "execution_count": 16,
   "id": "5e4e521e",
   "metadata": {},
   "outputs": [],
   "source": [
    "# vyber device\n",
    "device = torch.device('cuda' if torch.cuda.is_available() else 'cpu')"
   ]
  },
  {
   "cell_type": "code",
   "execution_count": 17,
   "id": "6fc254ce",
   "metadata": {},
   "outputs": [],
   "source": [
    "# funkce\n",
    "\n",
    "def f(x: torch.Tensor) -> torch.Tensor:\n",
    "    return -1\n",
    "\n",
    "def h(x: torch.Tensor) -> torch.Tensor:\n",
    "    return 0\n",
    "\n",
    "def g(x: torch.Tensor) -> torch.Tensor:\n",
    "    return torch.sqrt(torch.clamp(0.5 - torch.pow(x[:, 0:1], 2), min=0.0)) - torch.sqrt(torch.tensor(2.0))/2 - 0.6"
   ]
  },
  {
   "cell_type": "code",
   "execution_count": 18,
   "id": "a4311232",
   "metadata": {},
   "outputs": [],
   "source": [
    "# definice loss\n",
    "\n",
    "#TODO: vymyslet system pro smerove derivace\n",
    "\n",
    "def loss_fn(model: torch.nn.Module, domain: cb.CubeDomain):\n",
    "    interior = domain.interior.requires_grad_(True)\n",
    "    # y je const. a chci tu mensi\n",
    "    gamma_c = domain.sides[1][0].requires_grad_(True)\n",
    "    # y je const. a chci tu vetsi\n",
    "    gamma_d = domain.sides[1][1]\n",
    "    # x je const. a chci to mensi\n",
    "    gamma_n_left = domain.sides[0][0].requires_grad_(True)\n",
    "    # x je const. a chci to vetsi\n",
    "    gamma_n_right = domain.sides[0][1].requires_grad_(True)\n",
    "\n",
    "    # prvne ztrata na vnitrku\n",
    "    pde_out = model(interior)\n",
    "    lapl = calc.laplacian(interior, pde_out, device=device, time_dependant=False)\n",
    "    pde_loss = torch.mean((lapl - 1)**2)\n",
    "\n",
    "    # ztrata dirchletovi podminky\n",
    "    out_dirichlet = model(gamma_d)\n",
    "    dirichlet_loss = torch.mean(out_dirichlet**2)\n",
    "\n",
    "    #ztrata na neumannove podmince\n",
    "    out_right, out_left = model(gamma_n_right), model(gamma_n_left)\n",
    "    # z nejakeho duvodu pocitani smerovych derivaci timto zpusobem narusuje schopnost site se dobre trenovat. Proc? To nikdo nevi...\n",
    "    # du_dn_right = calc.dir_derivative(gamma_n_right, out_right, torch.tensor([1.0, 0.0], device=device), False, True)\n",
    "    # du_dn_left = calc.dir_derivative(gamma_n_left, out_left, torch.tensor([-1.0, 0.0], device=device), False, True)\n",
    "    du_dn_right = grad(out_right, gamma_n_right, torch.ones_like(out_right), create_graph=True)[0][:, 0:1]\n",
    "    du_dn_left = -grad(out_left, gamma_n_left, torch.ones_like(out_left), create_graph=True)[0][:, 0:1]\n",
    "    neumann_loss = torch.mean((du_dn_right)**2) + torch.mean((du_dn_left)**2)\n",
    "\n",
    "    # ztrata na kontaktni podmince\n",
    "    out_contact = model(gamma_c)\n",
    "    du_dn_contact = - grad(out_contact, gamma_c, torch.ones_like(out_contact), create_graph=True)[0][:, 1:2]\n",
    "    u_minus_g = out_contact - g(gamma_c)\n",
    "    contact_loss_1 = torch.mean(torch.relu(-u_minus_g)**2)\n",
    "    contact_loss_2 = torch.mean(torch.relu(-du_dn_contact)**2)\n",
    "    contact_loss_3 = torch.mean((du_dn_contact * (u_minus_g))**2)\n",
    "\n",
    "    contact_loss = contact_loss_1 + contact_loss_2 + contact_loss_3\n",
    "\n",
    "    #print(pde_loss, dirichlet_loss, neumann_loss, contact_loss)\n",
    "\n",
    "    return pde_loss + dirichlet_loss + neumann_loss + contact_loss"
   ]
  },
  {
   "cell_type": "code",
   "execution_count": 19,
   "id": "f1b71838",
   "metadata": {},
   "outputs": [],
   "source": [
    "# definice domeny\n",
    "domain_ctx = cb.CubeContext(\n",
    "    l_bounds=[-1, -1],\n",
    "    u_bounds=[1, 1],\n",
    "    dim = 2,\n",
    "    N_int=2000,\n",
    "    N_sides=[(100, 100), (100, 100)],\n",
    "    device=device\n",
    ")\n",
    "\n",
    "domain = cb.CubeDomain(domain_ctx)"
   ]
  },
  {
   "cell_type": "code",
   "execution_count": null,
   "id": "434efd3a",
   "metadata": {},
   "outputs": [],
   "source": [
    "# definice modelu a optimalizatoru\n",
    "model = MLPModel(2, 1, [64, 64, 64], domain_ctx.u_bounds, domain_ctx.l_bounds).to(device)\n",
    "optimizer = torch.optim.Adam(model.parameters(), lr=1e-3)"
   ]
  },
  {
   "cell_type": "code",
   "execution_count": 21,
   "id": "758a4be3",
   "metadata": {},
   "outputs": [
    {
     "data": {
      "text/plain": [
       "tensor(1.0699, device='cuda:0', grad_fn=<AddBackward0>)"
      ]
     },
     "execution_count": 21,
     "metadata": {},
     "output_type": "execute_result"
    }
   ],
   "source": [
    "domain.generate_points()\n",
    "loss_fn(model, domain)"
   ]
  },
  {
   "cell_type": "code",
   "execution_count": null,
   "id": "f15af81a",
   "metadata": {},
   "outputs": [
    {
     "name": "stdout",
     "output_type": "stream",
     "text": [
      "Loss at epoch 1 is: 1.0692613124847412. \n",
      "Loss at epoch 100 is: 0.0731290876865387. \n",
      "Loss at epoch 200 is: 0.03699607774615288. \n",
      "Loss at epoch 300 is: 0.03570065274834633. \n",
      "Loss at epoch 400 is: 0.026482852175831795. \n",
      "Loss at epoch 500 is: 0.024910584092140198. \n",
      "Loss at epoch 600 is: 0.019481072202324867. \n",
      "Loss at epoch 700 is: 0.016000021249055862. \n",
      "Loss at epoch 800 is: 0.012215446680784225. \n",
      "Loss at epoch 900 is: 0.009198861196637154. \n",
      "Loss at epoch 1000 is: 0.005886577535420656. \n",
      "Loss at epoch 1100 is: 0.004058647435158491. \n",
      "Loss at epoch 1200 is: 0.005305012222379446. \n",
      "Loss at epoch 1300 is: 0.0033635732252150774. \n",
      "Loss at epoch 1400 is: 0.002608536509796977. \n",
      "Loss at epoch 1500 is: 0.002479071728885174. \n",
      "Loss at epoch 1600 is: 0.0017916837241500616. \n",
      "Loss at epoch 1700 is: 0.002024267101660371. \n",
      "Loss at epoch 1800 is: 0.0015977905131876469. \n",
      "Loss at epoch 1900 is: 0.0012822289718315005. \n",
      "Loss at epoch 2000 is: 0.001324233366176486. \n",
      "Loss at epoch 2100 is: 0.0011338958283886313. \n",
      "Loss at epoch 2200 is: 0.0008637337014079094. \n",
      "Loss at epoch 2300 is: 0.0010704468004405499. \n",
      "Loss at epoch 2400 is: 0.000813539489172399. \n",
      "Loss at epoch 2500 is: 0.0007585214916616678. \n",
      "Switching to LBFGS\n",
      "Loss at lbfgs-epoch 100 is: 0.0007580713136121631\n",
      "Loss at lbfgs-epoch 200 is: 0.0008842792012728751\n",
      "Loss at lbfgs-epoch 300 is: 0.0008609496289864182\n"
     ]
    }
   ],
   "source": [
    "# samotne trenovani\n",
    "context = train.TrainingContext(\n",
    "    model=model,\n",
    "    optimizer=optimizer,\n",
    "    domain=domain,\n",
    "    loss_fn=loss_fn,\n",
    "    epochs=2500\n",
    ")\n",
    "\n",
    "loss_values = train.train_switch_to_lbfgs(context, lbfgs_lr=0.1)"
   ]
  },
  {
   "cell_type": "code",
   "execution_count": null,
   "id": "13712c93",
   "metadata": {},
   "outputs": [
    {
     "name": "stderr",
     "output_type": "stream",
     "text": [
      "/home/berva/Projects/PINNs/Introduction/notebooks/../src/utils.py:84: UserWarning: set_ticklabels() should only be used with a fixed number of ticks, i.e. after set_ticks() or using a FixedLocator.\n",
      "  ax.set_xticklabels(new_x_labels)\n"
     ]
    },
    {
     "data": {
      "image/png": "[encoded data removed]",
      "text/plain": [
       "<Figure size 600x400 with 1 Axes>"
      ]
     },
     "metadata": {},
     "output_type": "display_data"
    }
   ],
   "source": [
    "# vykresleni vyvoje ztraty\n",
    "utils.plot_loss_values(values=loss_values, x_label='Epochs', y_label='Loss')"
   ]
  },
  {
   "cell_type": "code",
   "execution_count": null,
   "id": "048d54b9",
   "metadata": {},
   "outputs": [
    {
     "name": "stderr",
     "output_type": "stream",
     "text": [
      "/home/berva/anaconda3/envs/pytorch/lib/python3.12/site-packages/torch/functional.py:534: UserWarning: torch.meshgrid: in an upcoming release, it will be required to pass the indexing argument. (Triggered internally at /opt/conda/conda-bld/pytorch_1729647329220/work/aten/src/ATen/native/TensorShape.cpp:3595.)\n",
      "  return _VF.meshgrid(tensors, **kwargs)  # type: ignore[attr-defined]\n"
     ]
    },
    {
     "data": {
      "image/png": "[encoded data removed]",
      "text/plain": [
       "<Figure size 600x400 with 2 Axes>"
      ]
     },
     "metadata": {},
     "output_type": "display_data"
    }
   ],
   "source": [
    "plot_ctx = utils.PlotContext(\n",
    "    l_bounds=[-1, -1],\n",
    "    u_bounds=[1, 1],\n",
    "    device=device,\n",
    "    patches=[],\n",
    "    vmin=-1,\n",
    "    vmax=0\n",
    ")\n",
    "\n",
    "utils.plot_function_on_2d_cube(model, plot_ctx)"
   ]
  }
 ],
 "metadata": {
  "kernelspec": {
   "display_name": "pytorch",
   "language": "python",
   "name": "python3"
  },
  "language_info": {
   "codemirror_mode": {
    "name": "ipython",
    "version": 3
   },
   "file_extension": ".py",
   "mimetype": "text/x-python",
   "name": "python",
   "nbconvert_exporter": "python",
   "pygments_lexer": "ipython3",
   "version": "3.12.11"
  }
 },
 "nbformat": 4,
 "nbformat_minor": 5
}
